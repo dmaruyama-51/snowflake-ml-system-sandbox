{
 "cells": [
  {
   "cell_type": "code",
   "execution_count": 1,
   "metadata": {},
   "outputs": [
    {
     "name": "stderr",
     "output_type": "stream",
     "text": [
      "2024-11-28 17:39:45,748 [INFO] src.dwh.snowflake: Snowflakeセッションの作成を開始\n",
      "2024-11-28 17:39:45,749 [INFO] src.dwh.snowflake: Snowflakeへの接続を試行\n",
      "2024-11-28 17:39:46,822 [INFO] src.dwh.snowflake: Snowflakeセッションの作成に成功\n"
     ]
    }
   ],
   "source": [
    "from src.dwh.snowflake import create_session\n",
    "\n",
    "session = create_session()\n",
    "\n",
    "df = session.sql(\"select * from ml.online_shoppers_intention\").to_pandas()\n"
   ]
  },
  {
   "cell_type": "code",
   "execution_count": 2,
   "metadata": {},
   "outputs": [
    {
     "name": "stderr",
     "output_type": "stream",
     "text": [
      "2024-11-28 17:39:48,569 [INFO] src.ml.preprocessing: データの分割を開始 (test_size: 0.2)\n",
      "2024-11-28 17:39:48,572 [INFO] src.ml.preprocessing: データ分割完了: 学習検証データ (9864, 18), テストデータ (2466, 18)\n",
      "2024-11-28 17:39:48,572 [INFO] src.ml.training: モデルの学習を開始 (交差検証分割数: 5)\n",
      "2024-11-28 17:39:48,574 [INFO] src.ml.training: Fold 1/5 の学習を開始\n",
      "2024-11-28 17:39:48,576 [INFO] src.ml.training: モデルパイプラインの作成を開始\n",
      "2024-11-28 17:39:48,576 [INFO] src.ml.preprocessing: 前処理パイプラインの作成を開始\n",
      "2024-11-28 17:39:48,577 [INFO] src.ml.preprocessing: 前処理パイプラインの作成完了\n",
      "2024-11-28 17:39:48,577 [INFO] src.ml.training: モデルパイプラインの作成完了\n",
      "2024-11-28 17:39:49,198 [INFO] src.ml.training: Fold 1 の評価結果:\n",
      "2024-11-28 17:39:49,199 [INFO] src.ml.evaluation: 予測結果の評価を開始\n",
      "2024-11-28 17:39:49,203 [INFO] src.ml.evaluation: === 評価メトリクス ===\n",
      "2024-11-28 17:39:49,203 [INFO] src.ml.evaluation: Accuracy: 0.905\n",
      "2024-11-28 17:39:49,204 [INFO] src.ml.evaluation: Precision: 0.775\n",
      "2024-11-28 17:39:49,204 [INFO] src.ml.evaluation: Recall: 0.522\n",
      "2024-11-28 17:39:49,204 [INFO] src.ml.evaluation: ROC-AUC: 0.918\n",
      "2024-11-28 17:39:49,205 [INFO] src.ml.evaluation: PR-AUC: 0.732\n",
      "2024-11-28 17:39:49,205 [INFO] src.ml.evaluation: 評価完了\n",
      "2024-11-28 17:39:49,205 [INFO] src.ml.training: Fold 2/5 の学習を開始\n",
      "2024-11-28 17:39:49,207 [INFO] src.ml.training: モデルパイプラインの作成を開始\n",
      "2024-11-28 17:39:49,207 [INFO] src.ml.preprocessing: 前処理パイプラインの作成を開始\n",
      "2024-11-28 17:39:49,208 [INFO] src.ml.preprocessing: 前処理パイプラインの作成完了\n",
      "2024-11-28 17:39:49,208 [INFO] src.ml.training: モデルパイプラインの作成完了\n",
      "2024-11-28 17:39:49,832 [INFO] src.ml.training: Fold 2 の評価結果:\n",
      "2024-11-28 17:39:49,833 [INFO] src.ml.evaluation: 予測結果の評価を開始\n",
      "2024-11-28 17:39:49,837 [INFO] src.ml.evaluation: === 評価メトリクス ===\n",
      "2024-11-28 17:39:49,837 [INFO] src.ml.evaluation: Accuracy: 0.899\n",
      "2024-11-28 17:39:49,837 [INFO] src.ml.evaluation: Precision: 0.712\n",
      "2024-11-28 17:39:49,838 [INFO] src.ml.evaluation: Recall: 0.549\n",
      "2024-11-28 17:39:49,838 [INFO] src.ml.evaluation: ROC-AUC: 0.924\n",
      "2024-11-28 17:39:49,838 [INFO] src.ml.evaluation: PR-AUC: 0.718\n",
      "2024-11-28 17:39:49,838 [INFO] src.ml.evaluation: 評価完了\n",
      "2024-11-28 17:39:49,839 [INFO] src.ml.training: Fold 3/5 の学習を開始\n",
      "2024-11-28 17:39:49,841 [INFO] src.ml.training: モデルパイプラインの作成を開始\n",
      "2024-11-28 17:39:49,841 [INFO] src.ml.preprocessing: 前処理パイプラインの作成を開始\n",
      "2024-11-28 17:39:49,841 [INFO] src.ml.preprocessing: 前処理パイプラインの作成完了\n",
      "2024-11-28 17:39:49,842 [INFO] src.ml.training: モデルパイプラインの作成完了\n",
      "2024-11-28 17:39:50,460 [INFO] src.ml.training: Fold 3 の評価結果:\n",
      "2024-11-28 17:39:50,461 [INFO] src.ml.evaluation: 予測結果の評価を開始\n",
      "2024-11-28 17:39:50,465 [INFO] src.ml.evaluation: === 評価メトリクス ===\n",
      "2024-11-28 17:39:50,465 [INFO] src.ml.evaluation: Accuracy: 0.913\n",
      "2024-11-28 17:39:50,465 [INFO] src.ml.evaluation: Precision: 0.778\n",
      "2024-11-28 17:39:50,466 [INFO] src.ml.evaluation: Recall: 0.589\n",
      "2024-11-28 17:39:50,466 [INFO] src.ml.evaluation: ROC-AUC: 0.935\n",
      "2024-11-28 17:39:50,466 [INFO] src.ml.evaluation: PR-AUC: 0.777\n",
      "2024-11-28 17:39:50,466 [INFO] src.ml.evaluation: 評価完了\n",
      "2024-11-28 17:39:50,467 [INFO] src.ml.training: Fold 4/5 の学習を開始\n",
      "2024-11-28 17:39:50,469 [INFO] src.ml.training: モデルパイプラインの作成を開始\n",
      "2024-11-28 17:39:50,469 [INFO] src.ml.preprocessing: 前処理パイプラインの作成を開始\n",
      "2024-11-28 17:39:50,469 [INFO] src.ml.preprocessing: 前処理パイプラインの作成完了\n",
      "2024-11-28 17:39:50,470 [INFO] src.ml.training: モデルパイプラインの作成完了\n",
      "2024-11-28 17:39:51,067 [INFO] src.ml.training: Fold 4 の評価結果:\n",
      "2024-11-28 17:39:51,068 [INFO] src.ml.evaluation: 予測結果の評価を開始\n",
      "2024-11-28 17:39:51,072 [INFO] src.ml.evaluation: === 評価メトリクス ===\n",
      "2024-11-28 17:39:51,072 [INFO] src.ml.evaluation: Accuracy: 0.903\n",
      "2024-11-28 17:39:51,072 [INFO] src.ml.evaluation: Precision: 0.726\n",
      "2024-11-28 17:39:51,072 [INFO] src.ml.evaluation: Recall: 0.577\n",
      "2024-11-28 17:39:51,073 [INFO] src.ml.evaluation: ROC-AUC: 0.926\n",
      "2024-11-28 17:39:51,073 [INFO] src.ml.evaluation: PR-AUC: 0.741\n",
      "2024-11-28 17:39:51,073 [INFO] src.ml.evaluation: 評価完了\n",
      "2024-11-28 17:39:51,074 [INFO] src.ml.training: Fold 5/5 の学習を開始\n",
      "2024-11-28 17:39:51,075 [INFO] src.ml.training: モデルパイプラインの作成を開始\n",
      "2024-11-28 17:39:51,076 [INFO] src.ml.preprocessing: 前処理パイプラインの作成を開始\n",
      "2024-11-28 17:39:51,076 [INFO] src.ml.preprocessing: 前処理パイプラインの作成完了\n",
      "2024-11-28 17:39:51,076 [INFO] src.ml.training: モデルパイプラインの作成完了\n",
      "2024-11-28 17:39:51,675 [INFO] src.ml.training: Fold 5 の評価結果:\n",
      "2024-11-28 17:39:51,675 [INFO] src.ml.evaluation: 予測結果の評価を開始\n",
      "2024-11-28 17:39:51,679 [INFO] src.ml.evaluation: === 評価メトリクス ===\n",
      "2024-11-28 17:39:51,679 [INFO] src.ml.evaluation: Accuracy: 0.899\n",
      "2024-11-28 17:39:51,679 [INFO] src.ml.evaluation: Precision: 0.717\n",
      "2024-11-28 17:39:51,680 [INFO] src.ml.evaluation: Recall: 0.539\n",
      "2024-11-28 17:39:51,680 [INFO] src.ml.evaluation: ROC-AUC: 0.919\n",
      "2024-11-28 17:39:51,680 [INFO] src.ml.evaluation: PR-AUC: 0.705\n",
      "2024-11-28 17:39:51,680 [INFO] src.ml.evaluation: 評価完了\n",
      "2024-11-28 17:39:51,681 [INFO] src.ml.training: === Cross-validation Summary ===\n",
      "2024-11-28 17:39:51,681 [INFO] src.ml.training: Accuracy: 0.904 (±0.005)\n",
      "2024-11-28 17:39:51,681 [INFO] src.ml.training: Precision: 0.742 (±0.029)\n",
      "2024-11-28 17:39:51,682 [INFO] src.ml.training: Recall: 0.555 (±0.025)\n",
      "2024-11-28 17:39:51,682 [INFO] src.ml.training: ROC-AUC: 0.924 (±0.006)\n",
      "2024-11-28 17:39:51,682 [INFO] src.ml.training: PR-AUC: 0.735 (±0.025)\n",
      "2024-11-28 17:39:51,682 [INFO] src.ml.training: 最終モデルの学習を開始\n",
      "2024-11-28 17:39:51,683 [INFO] src.ml.training: モデルパイプラインの作成を開始\n",
      "2024-11-28 17:39:51,683 [INFO] src.ml.preprocessing: 前処理パイプラインの作成を開始\n",
      "2024-11-28 17:39:51,683 [INFO] src.ml.preprocessing: 前処理パイプラインの作成完了\n",
      "2024-11-28 17:39:51,684 [INFO] src.ml.training: モデルパイプラインの作成完了\n",
      "2024-11-28 17:39:52,432 [INFO] src.ml.training: 最終モデルの学習完了\n"
     ]
    }
   ],
   "source": [
    "from src.ml.training import train_model\n",
    "from src.ml.preprocessing import split_data\n",
    "df_train_val, df_test = split_data(df) \n",
    "model, cv_scores = train_model(df_train_val)\n",
    "\n"
   ]
  },
  {
   "cell_type": "code",
   "execution_count": null,
   "metadata": {},
   "outputs": [],
   "source": []
  }
 ],
 "metadata": {
  "kernelspec": {
   "display_name": ".venv",
   "language": "python",
   "name": "python3"
  },
  "language_info": {
   "codemirror_mode": {
    "name": "ipython",
    "version": 3
   },
   "file_extension": ".py",
   "mimetype": "text/x-python",
   "name": "python",
   "nbconvert_exporter": "python",
   "pygments_lexer": "ipython3",
   "version": "3.11.4"
  }
 },
 "nbformat": 4,
 "nbformat_minor": 2
}
